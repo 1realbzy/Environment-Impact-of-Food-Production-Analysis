{
 "cells": [
  {
   "cell_type": "markdown",
   "metadata": {},
   "source": [
    "# Environmental Impact of Food Production Analysis\n",
    "\n",
    "## Overview\n",
    "This notebook analyzes the environmental impact of food production, focusing on key metrics such as carbon emissions, water usage, land use, and biodiversity loss.\n",
    "\n",
    "## Business Questions\n",
    "1. What are the top food products with the highest environmental impact?\n",
    "2. How does the environmental impact vary across different farming methods?\n",
    "3. What is the relationship between water usage and carbon emissions in food production?\n",
    "4. Which regions have the most sustainable food production practices?\n",
    "5. How does land use efficiency correlate with environmental impact?\n",
    "6. What are the trends in environmental impact over time for different food categories?\n",
    "7. How can we optimize food production to minimize environmental impact?"
   ]
  },
  {
   "cell_type": "code",
   "execution_count": 2,
   "metadata": {},
   "outputs": [],
   "source": [
    "# Import required libraries\n",
    "import pandas as pd\n",
    "import numpy as np\n",
    "import matplotlib.pyplot as plt\n",
    "import seaborn as sns\n",
    "import plotly.express as px\n",
    "import plotly.graph_objects as go\n",
    "from pathlib import Path\n",
    "\n",
    "# Set style for better visualizations\n",
    "sns.set_theme()  # This replaces plt.style.use('seaborn')\n",
    "sns.set_palette(\"husl\")\n",
    "\n",
    "# Display all columns\n",
    "pd.set_option('display.max_columns', None)\n",
    "\n",
    "# Create results directory if it doesn't exist\n",
    "results_dir = Path(\"../results\")\n",
    "results_dir.mkdir(exist_ok=True)"
   ]
  },
  {
   "cell_type": "markdown",
   "metadata": {},
   "source": [
    "## Data Loading and Initial Exploration"
   ]
  },
  {
   "cell_type": "code",
   "execution_count": 3,
   "metadata": {},
   "outputs": [
    {
     "name": "stdout",
     "output_type": "stream",
     "text": [
      "Dataset Info:\n",
      "<class 'pandas.core.frame.DataFrame'>\n",
      "RangeIndex: 43 entries, 0 to 42\n",
      "Data columns (total 23 columns):\n",
      " #   Column                                                                   Non-Null Count  Dtype  \n",
      "---  ------                                                                   --------------  -----  \n",
      " 0   Food product                                                             43 non-null     object \n",
      " 1   Land use change                                                          43 non-null     float64\n",
      " 2   Animal Feed                                                              43 non-null     float64\n",
      " 3   Farm                                                                     43 non-null     float64\n",
      " 4   Processing                                                               43 non-null     float64\n",
      " 5   Transport                                                                43 non-null     float64\n",
      " 6   Packging                                                                 43 non-null     float64\n",
      " 7   Retail                                                                   43 non-null     float64\n",
      " 8   Total_emissions                                                          43 non-null     float64\n",
      " 9   Eutrophying emissions per 1000kcal (gPO₄eq per 1000kcal)                 33 non-null     float64\n",
      " 10  Eutrophying emissions per kilogram (gPO₄eq per kilogram)                 38 non-null     float64\n",
      " 11  Eutrophying emissions per 100g protein (gPO₄eq per 100 grams protein)    27 non-null     float64\n",
      " 12  Freshwater withdrawals per 1000kcal (liters per 1000kcal)                30 non-null     float64\n",
      " 13  Freshwater withdrawals per 100g protein (liters per 100g protein)        26 non-null     float64\n",
      " 14  Freshwater withdrawals per kilogram (liters per kilogram)                38 non-null     float64\n",
      " 15  Greenhouse gas emissions per 1000kcal (kgCO₂eq per 1000kcal)             33 non-null     float64\n",
      " 16  Greenhouse gas emissions per 100g protein (kgCO₂eq per 100g protein)     27 non-null     float64\n",
      " 17  Land use per 1000kcal (m² per 1000kcal)                                  33 non-null     float64\n",
      " 18  Land use per kilogram (m² per kilogram)                                  38 non-null     float64\n",
      " 19  Land use per 100g protein (m² per 100g protein)                          27 non-null     float64\n",
      " 20  Scarcity-weighted water use per kilogram (liters per kilogram)           38 non-null     float64\n",
      " 21  Scarcity-weighted water use per 100g protein (liters per 100g protein)   26 non-null     float64\n",
      " 22  Scarcity-weighted water use per 1000kcal (liters per 1000 kilocalories)  30 non-null     float64\n",
      "dtypes: float64(22), object(1)\n",
      "memory usage: 7.9+ KB\n",
      "None\n",
      "\n",
      "First few rows:\n"
     ]
    },
    {
     "data": {
      "text/html": [
       "<div>\n",
       "<style scoped>\n",
       "    .dataframe tbody tr th:only-of-type {\n",
       "        vertical-align: middle;\n",
       "    }\n",
       "\n",
       "    .dataframe tbody tr th {\n",
       "        vertical-align: top;\n",
       "    }\n",
       "\n",
       "    .dataframe thead th {\n",
       "        text-align: right;\n",
       "    }\n",
       "</style>\n",
       "<table border=\"1\" class=\"dataframe\">\n",
       "  <thead>\n",
       "    <tr style=\"text-align: right;\">\n",
       "      <th></th>\n",
       "      <th>Food product</th>\n",
       "      <th>Land use change</th>\n",
       "      <th>Animal Feed</th>\n",
       "      <th>Farm</th>\n",
       "      <th>Processing</th>\n",
       "      <th>Transport</th>\n",
       "      <th>Packging</th>\n",
       "      <th>Retail</th>\n",
       "      <th>Total_emissions</th>\n",
       "      <th>Eutrophying emissions per 1000kcal (gPO₄eq per 1000kcal)</th>\n",
       "      <th>Eutrophying emissions per kilogram (gPO₄eq per kilogram)</th>\n",
       "      <th>Eutrophying emissions per 100g protein (gPO₄eq per 100 grams protein)</th>\n",
       "      <th>Freshwater withdrawals per 1000kcal (liters per 1000kcal)</th>\n",
       "      <th>Freshwater withdrawals per 100g protein (liters per 100g protein)</th>\n",
       "      <th>Freshwater withdrawals per kilogram (liters per kilogram)</th>\n",
       "      <th>Greenhouse gas emissions per 1000kcal (kgCO₂eq per 1000kcal)</th>\n",
       "      <th>Greenhouse gas emissions per 100g protein (kgCO₂eq per 100g protein)</th>\n",
       "      <th>Land use per 1000kcal (m² per 1000kcal)</th>\n",
       "      <th>Land use per kilogram (m² per kilogram)</th>\n",
       "      <th>Land use per 100g protein (m² per 100g protein)</th>\n",
       "      <th>Scarcity-weighted water use per kilogram (liters per kilogram)</th>\n",
       "      <th>Scarcity-weighted water use per 100g protein (liters per 100g protein)</th>\n",
       "      <th>Scarcity-weighted water use per 1000kcal (liters per 1000 kilocalories)</th>\n",
       "    </tr>\n",
       "  </thead>\n",
       "  <tbody>\n",
       "    <tr>\n",
       "      <th>0</th>\n",
       "      <td>Wheat &amp; Rye (Bread)</td>\n",
       "      <td>0.1</td>\n",
       "      <td>0.0</td>\n",
       "      <td>0.8</td>\n",
       "      <td>0.2</td>\n",
       "      <td>0.1</td>\n",
       "      <td>0.1</td>\n",
       "      <td>0.1</td>\n",
       "      <td>1.4</td>\n",
       "      <td>NaN</td>\n",
       "      <td>NaN</td>\n",
       "      <td>NaN</td>\n",
       "      <td>NaN</td>\n",
       "      <td>NaN</td>\n",
       "      <td>NaN</td>\n",
       "      <td>NaN</td>\n",
       "      <td>NaN</td>\n",
       "      <td>NaN</td>\n",
       "      <td>NaN</td>\n",
       "      <td>NaN</td>\n",
       "      <td>NaN</td>\n",
       "      <td>NaN</td>\n",
       "      <td>NaN</td>\n",
       "    </tr>\n",
       "    <tr>\n",
       "      <th>1</th>\n",
       "      <td>Maize (Meal)</td>\n",
       "      <td>0.3</td>\n",
       "      <td>0.0</td>\n",
       "      <td>0.5</td>\n",
       "      <td>0.1</td>\n",
       "      <td>0.1</td>\n",
       "      <td>0.1</td>\n",
       "      <td>0.0</td>\n",
       "      <td>1.1</td>\n",
       "      <td>NaN</td>\n",
       "      <td>NaN</td>\n",
       "      <td>NaN</td>\n",
       "      <td>NaN</td>\n",
       "      <td>NaN</td>\n",
       "      <td>NaN</td>\n",
       "      <td>NaN</td>\n",
       "      <td>NaN</td>\n",
       "      <td>NaN</td>\n",
       "      <td>NaN</td>\n",
       "      <td>NaN</td>\n",
       "      <td>NaN</td>\n",
       "      <td>NaN</td>\n",
       "      <td>NaN</td>\n",
       "    </tr>\n",
       "    <tr>\n",
       "      <th>2</th>\n",
       "      <td>Barley (Beer)</td>\n",
       "      <td>0.0</td>\n",
       "      <td>0.0</td>\n",
       "      <td>0.2</td>\n",
       "      <td>0.1</td>\n",
       "      <td>0.0</td>\n",
       "      <td>0.5</td>\n",
       "      <td>0.3</td>\n",
       "      <td>1.1</td>\n",
       "      <td>NaN</td>\n",
       "      <td>NaN</td>\n",
       "      <td>NaN</td>\n",
       "      <td>NaN</td>\n",
       "      <td>NaN</td>\n",
       "      <td>NaN</td>\n",
       "      <td>NaN</td>\n",
       "      <td>NaN</td>\n",
       "      <td>NaN</td>\n",
       "      <td>NaN</td>\n",
       "      <td>NaN</td>\n",
       "      <td>NaN</td>\n",
       "      <td>NaN</td>\n",
       "      <td>NaN</td>\n",
       "    </tr>\n",
       "    <tr>\n",
       "      <th>3</th>\n",
       "      <td>Oatmeal</td>\n",
       "      <td>0.0</td>\n",
       "      <td>0.0</td>\n",
       "      <td>1.4</td>\n",
       "      <td>0.0</td>\n",
       "      <td>0.1</td>\n",
       "      <td>0.1</td>\n",
       "      <td>0.0</td>\n",
       "      <td>1.6</td>\n",
       "      <td>4.281357</td>\n",
       "      <td>11.23</td>\n",
       "      <td>8.638462</td>\n",
       "      <td>183.911552</td>\n",
       "      <td>371.076923</td>\n",
       "      <td>482.4</td>\n",
       "      <td>0.945482</td>\n",
       "      <td>1.907692</td>\n",
       "      <td>2.897446</td>\n",
       "      <td>7.6</td>\n",
       "      <td>5.846154</td>\n",
       "      <td>18786.2</td>\n",
       "      <td>14450.92308</td>\n",
       "      <td>7162.104461</td>\n",
       "    </tr>\n",
       "    <tr>\n",
       "      <th>4</th>\n",
       "      <td>Rice</td>\n",
       "      <td>0.0</td>\n",
       "      <td>0.0</td>\n",
       "      <td>3.6</td>\n",
       "      <td>0.1</td>\n",
       "      <td>0.1</td>\n",
       "      <td>0.1</td>\n",
       "      <td>0.1</td>\n",
       "      <td>4.0</td>\n",
       "      <td>9.514379</td>\n",
       "      <td>35.07</td>\n",
       "      <td>49.394366</td>\n",
       "      <td>609.983722</td>\n",
       "      <td>3166.760563</td>\n",
       "      <td>2248.4</td>\n",
       "      <td>1.207271</td>\n",
       "      <td>6.267606</td>\n",
       "      <td>0.759631</td>\n",
       "      <td>2.8</td>\n",
       "      <td>3.943662</td>\n",
       "      <td>49576.3</td>\n",
       "      <td>69825.77465</td>\n",
       "      <td>13449.891480</td>\n",
       "    </tr>\n",
       "  </tbody>\n",
       "</table>\n",
       "</div>"
      ],
      "text/plain": [
       "          Food product  Land use change  Animal Feed  Farm  Processing  \\\n",
       "0  Wheat & Rye (Bread)              0.1          0.0   0.8         0.2   \n",
       "1         Maize (Meal)              0.3          0.0   0.5         0.1   \n",
       "2        Barley (Beer)              0.0          0.0   0.2         0.1   \n",
       "3              Oatmeal              0.0          0.0   1.4         0.0   \n",
       "4                 Rice              0.0          0.0   3.6         0.1   \n",
       "\n",
       "   Transport  Packging  Retail  Total_emissions  \\\n",
       "0        0.1       0.1     0.1              1.4   \n",
       "1        0.1       0.1     0.0              1.1   \n",
       "2        0.0       0.5     0.3              1.1   \n",
       "3        0.1       0.1     0.0              1.6   \n",
       "4        0.1       0.1     0.1              4.0   \n",
       "\n",
       "   Eutrophying emissions per 1000kcal (gPO₄eq per 1000kcal)  \\\n",
       "0                                                NaN          \n",
       "1                                                NaN          \n",
       "2                                                NaN          \n",
       "3                                           4.281357          \n",
       "4                                           9.514379          \n",
       "\n",
       "   Eutrophying emissions per kilogram (gPO₄eq per kilogram)  \\\n",
       "0                                                NaN          \n",
       "1                                                NaN          \n",
       "2                                                NaN          \n",
       "3                                              11.23          \n",
       "4                                              35.07          \n",
       "\n",
       "   Eutrophying emissions per 100g protein (gPO₄eq per 100 grams protein)  \\\n",
       "0                                                NaN                       \n",
       "1                                                NaN                       \n",
       "2                                                NaN                       \n",
       "3                                           8.638462                       \n",
       "4                                          49.394366                       \n",
       "\n",
       "   Freshwater withdrawals per 1000kcal (liters per 1000kcal)  \\\n",
       "0                                                NaN           \n",
       "1                                                NaN           \n",
       "2                                                NaN           \n",
       "3                                         183.911552           \n",
       "4                                         609.983722           \n",
       "\n",
       "   Freshwater withdrawals per 100g protein (liters per 100g protein)  \\\n",
       "0                                                NaN                   \n",
       "1                                                NaN                   \n",
       "2                                                NaN                   \n",
       "3                                         371.076923                   \n",
       "4                                        3166.760563                   \n",
       "\n",
       "   Freshwater withdrawals per kilogram (liters per kilogram)  \\\n",
       "0                                                NaN           \n",
       "1                                                NaN           \n",
       "2                                                NaN           \n",
       "3                                              482.4           \n",
       "4                                             2248.4           \n",
       "\n",
       "   Greenhouse gas emissions per 1000kcal (kgCO₂eq per 1000kcal)  \\\n",
       "0                                                NaN              \n",
       "1                                                NaN              \n",
       "2                                                NaN              \n",
       "3                                           0.945482              \n",
       "4                                           1.207271              \n",
       "\n",
       "   Greenhouse gas emissions per 100g protein (kgCO₂eq per 100g protein)  \\\n",
       "0                                                NaN                      \n",
       "1                                                NaN                      \n",
       "2                                                NaN                      \n",
       "3                                           1.907692                      \n",
       "4                                           6.267606                      \n",
       "\n",
       "   Land use per 1000kcal (m² per 1000kcal)  \\\n",
       "0                                      NaN   \n",
       "1                                      NaN   \n",
       "2                                      NaN   \n",
       "3                                 2.897446   \n",
       "4                                 0.759631   \n",
       "\n",
       "   Land use per kilogram (m² per kilogram)  \\\n",
       "0                                      NaN   \n",
       "1                                      NaN   \n",
       "2                                      NaN   \n",
       "3                                      7.6   \n",
       "4                                      2.8   \n",
       "\n",
       "   Land use per 100g protein (m² per 100g protein)  \\\n",
       "0                                              NaN   \n",
       "1                                              NaN   \n",
       "2                                              NaN   \n",
       "3                                         5.846154   \n",
       "4                                         3.943662   \n",
       "\n",
       "   Scarcity-weighted water use per kilogram (liters per kilogram)  \\\n",
       "0                                                NaN                \n",
       "1                                                NaN                \n",
       "2                                                NaN                \n",
       "3                                            18786.2                \n",
       "4                                            49576.3                \n",
       "\n",
       "   Scarcity-weighted water use per 100g protein (liters per 100g protein)  \\\n",
       "0                                                NaN                        \n",
       "1                                                NaN                        \n",
       "2                                                NaN                        \n",
       "3                                        14450.92308                        \n",
       "4                                        69825.77465                        \n",
       "\n",
       "   Scarcity-weighted water use per 1000kcal (liters per 1000 kilocalories)  \n",
       "0                                                NaN                        \n",
       "1                                                NaN                        \n",
       "2                                                NaN                        \n",
       "3                                        7162.104461                        \n",
       "4                                       13449.891480                        "
      ]
     },
     "metadata": {},
     "output_type": "display_data"
    }
   ],
   "source": [
    "# Load the dataset\n",
    "df = pd.read_csv('../data/Food_Production.csv')\n",
    "\n",
    "# Display basic information about the dataset\n",
    "print(\"Dataset Info:\")\n",
    "print(df.info())\n",
    "\n",
    "# Display first few rows\n",
    "print(\"\\nFirst few rows:\")\n",
    "display(df.head())"
   ]
  },
  {
   "cell_type": "markdown",
   "metadata": {},
   "source": [
    "## Data Preprocessing"
   ]
  },
  {
   "cell_type": "code",
   "execution_count": 4,
   "metadata": {},
   "outputs": [
    {
     "name": "stdout",
     "output_type": "stream",
     "text": [
      "Missing values:\n",
      "Food product                                                                0\n",
      "Land use change                                                             0\n",
      "Animal Feed                                                                 0\n",
      "Farm                                                                        0\n",
      "Processing                                                                  0\n",
      "Transport                                                                   0\n",
      "Packging                                                                    0\n",
      "Retail                                                                      0\n",
      "Total_emissions                                                             0\n",
      "Eutrophying emissions per 1000kcal (gPO₄eq per 1000kcal)                   10\n",
      "Eutrophying emissions per kilogram (gPO₄eq per kilogram)                    5\n",
      "Eutrophying emissions per 100g protein (gPO₄eq per 100 grams protein)      16\n",
      "Freshwater withdrawals per 1000kcal (liters per 1000kcal)                  13\n",
      "Freshwater withdrawals per 100g protein (liters per 100g protein)          17\n",
      "Freshwater withdrawals per kilogram (liters per kilogram)                   5\n",
      "Greenhouse gas emissions per 1000kcal (kgCO₂eq per 1000kcal)               10\n",
      "Greenhouse gas emissions per 100g protein (kgCO₂eq per 100g protein)       16\n",
      "Land use per 1000kcal (m² per 1000kcal)                                    10\n",
      "Land use per kilogram (m² per kilogram)                                     5\n",
      "Land use per 100g protein (m² per 100g protein)                            16\n",
      "Scarcity-weighted water use per kilogram (liters per kilogram)              5\n",
      "Scarcity-weighted water use per 100g protein (liters per 100g protein)     17\n",
      "Scarcity-weighted water use per 1000kcal (liters per 1000 kilocalories)    13\n",
      "dtype: int64\n",
      "\n",
      "Basic statistics:\n",
      "       Land use change  Animal Feed       Farm  Processing  Transport  \\\n",
      "count        43.000000    43.000000  43.000000   43.000000  43.000000   \n",
      "mean          1.260465     0.453488   3.469767    0.253488   0.195349   \n",
      "std           3.357730     0.919200   7.083264    0.372475   0.158795   \n",
      "min          -2.100000     0.000000   0.100000    0.000000   0.000000   \n",
      "25%           0.000000     0.000000   0.350000    0.000000   0.100000   \n",
      "50%           0.200000     0.000000   0.800000    0.100000   0.100000   \n",
      "75%           0.800000     0.000000   2.200000    0.300000   0.200000   \n",
      "max          16.300000     2.900000  39.400000    1.300000   0.800000   \n",
      "\n",
      "        Packging     Retail  Total_emissions  \\\n",
      "count  43.000000  43.000000        43.000000   \n",
      "mean    0.269767   0.069767         5.972093   \n",
      "std     0.342633   0.110270        10.501753   \n",
      "min     0.000000   0.000000         0.200000   \n",
      "25%     0.100000   0.000000         0.850000   \n",
      "50%     0.100000   0.000000         1.600000   \n",
      "75%     0.300000   0.150000         6.000000   \n",
      "max     1.600000   0.300000        59.600000   \n",
      "\n",
      "       Eutrophying emissions per 1000kcal (gPO₄eq per 1000kcal)  \\\n",
      "count                                          33.000000          \n",
      "mean                                           27.181547          \n",
      "std                                            46.445959          \n",
      "min                                             0.708419          \n",
      "25%                                             4.214932          \n",
      "50%                                             7.000000          \n",
      "75%                                            26.324324          \n",
      "max                                           197.357143          \n",
      "\n",
      "       Eutrophying emissions per kilogram (gPO₄eq per kilogram)  \\\n",
      "count                                          38.000000          \n",
      "mean                                           46.141316          \n",
      "std                                            82.808808          \n",
      "min                                             0.690000          \n",
      "25%                                             3.752500          \n",
      "50%                                            11.460000          \n",
      "75%                                            45.840000          \n",
      "max                                           365.290000          \n",
      "\n",
      "       Eutrophying emissions per 100g protein (gPO₄eq per 100 grams protein)  \\\n",
      "count                                          27.000000                       \n",
      "mean                                           52.771953                       \n",
      "std                                            52.033823                       \n",
      "min                                             3.384338                       \n",
      "25%                                            17.855335                       \n",
      "50%                                            37.333333                       \n",
      "75%                                            55.297183                       \n",
      "max                                           185.050659                       \n",
      "\n",
      "       Freshwater withdrawals per 1000kcal (liters per 1000kcal)  \\\n",
      "count                                          30.000000           \n",
      "mean                                          504.188977           \n",
      "std                                           539.130695           \n",
      "min                                             0.723982           \n",
      "25%                                           106.927557           \n",
      "50%                                           338.059413           \n",
      "75%                                           694.805356           \n",
      "max                                          2062.178771           \n",
      "\n",
      "       Freshwater withdrawals per 100g protein (liters per 100g protein)  \\\n",
      "count                                          26.000000                   \n",
      "mean                                         1437.975324                   \n",
      "std                                          1441.981970                   \n",
      "min                                            32.375000                   \n",
      "25%                                           373.573281                   \n",
      "50%                                          1083.327272                   \n",
      "75%                                          1832.386339                   \n",
      "max                                          6003.333333                   \n",
      "\n",
      "       Freshwater withdrawals per kilogram (liters per kilogram)  \\\n",
      "count                                          38.000000           \n",
      "mean                                          932.605263           \n",
      "std                                          1296.999186           \n",
      "min                                             0.000000           \n",
      "25%                                           105.500000           \n",
      "50%                                           417.100000           \n",
      "75%                                          1340.375000           \n",
      "max                                          5605.200000           \n",
      "\n",
      "       Greenhouse gas emissions per 1000kcal (kgCO₂eq per 1000kcal)  \\\n",
      "count                                          33.000000              \n",
      "mean                                            5.633943              \n",
      "std                                            10.613575              \n",
      "min                                             0.069919              \n",
      "25%                                             0.628415              \n",
      "50%                                             1.351351              \n",
      "75%                                             5.335135              \n",
      "max                                            50.946429              \n",
      "\n",
      "       Greenhouse gas emissions per 100g protein (kgCO₂eq per 100g protein)  \\\n",
      "count                                          27.000000                      \n",
      "mean                                           13.524906                      \n",
      "std                                            19.427462                      \n",
      "min                                             0.263319                      \n",
      "25%                                             4.027439                      \n",
      "50%                                             6.500000                      \n",
      "75%                                            14.983333                      \n",
      "max                                            93.300000                      \n",
      "\n",
      "       Land use per 1000kcal (m² per 1000kcal)  \\\n",
      "count                                33.000000   \n",
      "mean                                 12.423165   \n",
      "std                                  28.348693   \n",
      "min                                   0.273756   \n",
      "25%                                   1.312500   \n",
      "50%                                   2.976244   \n",
      "75%                                   6.605405   \n",
      "max                                 119.490842   \n",
      "\n",
      "       Land use per kilogram (m² per kilogram)  \\\n",
      "count                                38.000000   \n",
      "mean                                 29.264474   \n",
      "std                                  78.490074   \n",
      "min                                   0.330000   \n",
      "25%                                   1.112500   \n",
      "50%                                   6.865000   \n",
      "75%                                  14.917500   \n",
      "max                                 369.810000   \n",
      "\n",
      "       Land use per 100g protein (m² per 100g protein)  \\\n",
      "count                                        27.000000   \n",
      "mean                                         29.105042   \n",
      "std                                          49.307339   \n",
      "min                                           3.000000   \n",
      "25%                                           5.088235   \n",
      "50%                                           7.936314   \n",
      "75%                                          23.002381   \n",
      "max                                         184.812594   \n",
      "\n",
      "       Scarcity-weighted water use per kilogram (liters per kilogram)  \\\n",
      "count                                          38.000000                \n",
      "mean                                        36607.428947                \n",
      "std                                         56891.283046                \n",
      "min                                             0.000000                \n",
      "25%                                          3325.075000                \n",
      "50%                                         14533.050000                \n",
      "75%                                         35960.175000                \n",
      "max                                        229889.800000                \n",
      "\n",
      "       Scarcity-weighted water use per 100g protein (liters per 100g protein)  \\\n",
      "count                                          26.000000                        \n",
      "mean                                        59196.438503                        \n",
      "std                                         89928.189299                        \n",
      "min                                           421.250000                        \n",
      "25%                                         11018.401008                        \n",
      "50%                                         20917.213595                        \n",
      "75%                                         70651.721023                        \n",
      "max                                        431620.000000                        \n",
      "\n",
      "       Scarcity-weighted water use per 1000kcal (liters per 1000 kilocalories)  \n",
      "count                                          30.000000                        \n",
      "mean                                        17380.575408                        \n",
      "std                                         16232.080209                        \n",
      "min                                             4.095023                        \n",
      "25%                                          2969.124983                        \n",
      "50%                                         12605.256790                        \n",
      "75%                                         28056.471593                        \n",
      "max                                         49735.882350                        \n",
      "\n",
      "Total missing values percentage: 15.98%\n"
     ]
    }
   ],
   "source": [
    "# Check for missing values\n",
    "print(\"Missing values:\")\n",
    "print(df.isnull().sum())\n",
    "\n",
    "# Basic statistics\n",
    "print(\"\\nBasic statistics:\")\n",
    "print(df.describe())\n",
    "\n",
    "# Calculate total missing values percentage\n",
    "total_missing = df.isnull().sum().sum()\n",
    "total_cells = df.size\n",
    "missing_percentage = (total_missing / total_cells) * 100\n",
    "print(f\"\\nTotal missing values percentage: {missing_percentage:.2f}%\")"
   ]
  },
  {
   "cell_type": "markdown",
   "metadata": {},
   "source": [
    "## Business Question 1: Top Food Products with Highest Environmental Impact"
   ]
  },
  {
   "cell_type": "code",
   "execution_count": 5,
   "metadata": {},
   "outputs": [
    {
     "name": "stderr",
     "output_type": "stream",
     "text": [
      "C:\\Users\\hbempong\\AppData\\Local\\Temp\\ipykernel_11028\\1548416437.py:9: UserWarning: Glyph 8322 (\\N{SUBSCRIPT TWO}) missing from font(s) Arial.\n",
      "  plt.tight_layout()\n",
      "C:\\Users\\hbempong\\AppData\\Local\\Temp\\ipykernel_11028\\1548416437.py:10: UserWarning: Glyph 8322 (\\N{SUBSCRIPT TWO}) missing from font(s) Arial.\n",
      "  plt.savefig(results_dir / 'top_emissions.png')\n",
      "C:\\Users\\hbempong\\AppData\\Local\\Packages\\PythonSoftwareFoundation.Python.3.11_qbz5n2kfra8p0\\LocalCache\\local-packages\\Python311\\site-packages\\IPython\\core\\pylabtools.py:170: UserWarning: Glyph 8322 (\\N{SUBSCRIPT TWO}) missing from font(s) Arial.\n",
      "  fig.canvas.print_figure(bytes_io, **kw)\n"
     ]
    },
    {
     "data": {
      "image/png": "[encoded data removed]",
      "text/plain": [
       "<Figure size 1200x600 with 1 Axes>"
      ]
     },
     "metadata": {},
     "output_type": "display_data"
    },
    {
     "data": {
      "application/vnd.plotly.v1+json": {
       "config": {
        "plotlyServerURL": "https://plot.ly"
       },
       "data": [
        {
         "alignmentgroup": "True",
         "hovertemplate": "Total_emissions=%{x}<br>Food product=%{y}<extra></extra>",
         "legendgroup": "",
         "marker": {
          "color": "#636efa",
          "pattern": {
           "shape": ""
          }
         },
         "name": "",
         "offsetgroup": "",
         "orientation": "h",
         "showlegend": false,
         "textposition": "auto",
         "type": "bar",
         "x": [
          59.6,
          24.5,
          21.2,
          21.1,
          18.7,
          16.500000000000004,
          11.8,
          7.6,
          7.2,
          6.1000000000000005
         ],
         "xaxis": "x",
         "y": [
          "Beef (beef herd)",
          "Lamb & Mutton",
          "Cheese",
          "Beef (dairy herd)",
          "Dark Chocolate",
          "Coffee",
          "Shrimps (farmed)",
          "Palm Oil",
          "Pig Meat",
          "Poultry Meat"
         ],
         "yaxis": "y"
        }
       ],
       "layout": {
        "barmode": "relative",
        "legend": {
         "tracegroupgap": 0
        },
        "template": {
         "data": {
          "bar": [
           {
            "error_x": {
             "color": "#2a3f5f"
            },
            "error_y": {
             "color": "#2a3f5f"
            },
            "marker": {
             "line": {
              "color": "#E5ECF6",
              "width": 0.5
             },
             "pattern": {
              "fillmode": "overlay",
              "size": 10,
              "solidity": 0.2
             }
            },
            "type": "bar"
           }
          ],
          "barpolar": [
           {
            "marker": {
             "line": {
              "color": "#E5ECF6",
              "width": 0.5
             },
             "pattern": {
              "fillmode": "overlay",
              "size": 10,
              "solidity": 0.2
             }
            },
            "type": "barpolar"
           }
          ],
          "carpet": [
           {
            "aaxis": {
             "endlinecolor": "#2a3f5f",
             "gridcolor": "white",
             "linecolor": "white",
             "minorgridcolor": "white",
             "startlinecolor": "#2a3f5f"
            },
            "baxis": {
             "endlinecolor": "#2a3f5f",
             "gridcolor": "white",
             "linecolor": "white",
             "minorgridcolor": "white",
             "startlinecolor": "#2a3f5f"
            },
            "type": "carpet"
           }
          ],
          "choropleth": [
           {
            "colorbar": {
             "outlinewidth": 0,
             "ticks": ""
            },
            "type": "choropleth"
           }
          ],
          "contour": [
           {
            "colorbar": {
             "outlinewidth": 0,
             "ticks": ""
            },
            "colorscale": [
             [
              0,
              "#0d0887"
             ],
             [
              0.1111111111111111,
              "#46039f"
             ],
             [
              0.2222222222222222,
              "#7201a8"
             ],
             [
              0.3333333333333333,
              "#9c179e"
             ],
             [
              0.4444444444444444,
              "#bd3786"
             ],
             [
              0.5555555555555556,
              "#d8576b"
             ],
             [
              0.6666666666666666,
              "#ed7953"
             ],
             [
              0.7777777777777778,
              "#fb9f3a"
             ],
             [
              0.8888888888888888,
              "#fdca26"
             ],
             [
              1,
              "#f0f921"
             ]
            ],
            "type": "contour"
           }
          ],
          "contourcarpet": [
           {
            "colorbar": {
             "outlinewidth": 0,
             "ticks": ""
            },
            "type": "contourcarpet"
           }
          ],
          "heatmap": [
           {
            "colorbar": {
             "outlinewidth": 0,
             "ticks": ""
            },
            "colorscale": [
             [
              0,
              "#0d0887"
             ],
             [
              0.1111111111111111,
              "#46039f"
             ],
             [
              0.2222222222222222,
              "#7201a8"
             ],
             [
              0.3333333333333333,
              "#9c179e"
             ],
             [
              0.4444444444444444,
              "#bd3786"
             ],
             [
              0.5555555555555556,
              "#d8576b"
             ],
             [
              0.6666666666666666,
              "#ed7953"
             ],
             [
              0.7777777777777778,
              "#fb9f3a"
             ],
             [
              0.8888888888888888,
              "#fdca26"
             ],
             [
              1,
              "#f0f921"
             ]
            ],
            "type": "heatmap"
           }
          ],
          "heatmapgl": [
           {
            "colorbar": {
             "outlinewidth": 0,
             "ticks": ""
            },
            "colorscale": [
             [
              0,
              "#0d0887"
             ],
             [
              0.1111111111111111,
              "#46039f"
             ],
             [
              0.2222222222222222,
              "#7201a8"
             ],
             [
              0.3333333333333333,
              "#9c179e"
             ],
             [
              0.4444444444444444,
              "#bd3786"
             ],
             [
              0.5555555555555556,
              "#d8576b"
             ],
             [
              0.6666666666666666,
              "#ed7953"
             ],
             [
              0.7777777777777778,
              "#fb9f3a"
             ],
             [
              0.8888888888888888,
              "#fdca26"
             ],
             [
              1,
              "#f0f921"
             ]
            ],
            "type": "heatmapgl"
           }
          ],
          "histogram": [
           {
            "marker": {
             "pattern": {
              "fillmode": "overlay",
              "size": 10,
              "solidity": 0.2
             }
            },
            "type": "histogram"
           }
          ],
          "histogram2d": [
           {
            "colorbar": {
             "outlinewidth": 0,
             "ticks": ""
            },
            "colorscale": [
             [
              0,
              "#0d0887"
             ],
             [
              0.1111111111111111,
              "#46039f"
             ],
             [
              0.2222222222222222,
              "#7201a8"
             ],
             [
              0.3333333333333333,
              "#9c179e"
             ],
             [
              0.4444444444444444,
              "#bd3786"
             ],
             [
              0.5555555555555556,
              "#d8576b"
             ],
             [
              0.6666666666666666,
              "#ed7953"
             ],
             [
              0.7777777777777778,
              "#fb9f3a"
             ],
             [
              0.8888888888888888,
              "#fdca26"
             ],
             [
              1,
              "#f0f921"
             ]
            ],
            "type": "histogram2d"
           }
          ],
          "histogram2dcontour": [
           {
            "colorbar": {
             "outlinewidth": 0,
             "ticks": ""
            },
            "colorscale": [
             [
              0,
              "#0d0887"
             ],
             [
              0.1111111111111111,
              "#46039f"
             ],
             [
              0.2222222222222222,
              "#7201a8"
             ],
             [
              0.3333333333333333,
              "#9c179e"
             ],
             [
              0.4444444444444444,
              "#bd3786"
             ],
             [
              0.5555555555555556,
              "#d8576b"
             ],
             [
              0.6666666666666666,
              "#ed7953"
             ],
             [
              0.7777777777777778,
              "#fb9f3a"
             ],
             [
              0.8888888888888888,
              "#fdca26"
             ],
             [
              1,
              "#f0f921"
             ]
            ],
            "type": "histogram2dcontour"
           }
          ],
          "mesh3d": [
           {
            "colorbar": {
             "outlinewidth": 0,
             "ticks": ""
            },
            "type": "mesh3d"
           }
          ],
          "parcoords": [
           {
            "line": {
             "colorbar": {
              "outlinewidth": 0,
              "ticks": ""
             }
            },
            "type": "parcoords"
           }
          ],
          "pie": [
           {
            "automargin": true,
            "type": "pie"
           }
          ],
          "scatter": [
           {
            "fillpattern": {
             "fillmode": "overlay",
             "size": 10,
             "solidity": 0.2
            },
            "type": "scatter"
           }
          ],
          "scatter3d": [
           {
            "line": {
             "colorbar": {
              "outlinewidth": 0,
              "ticks": ""
             }
            },
            "marker": {
             "colorbar": {
              "outlinewidth": 0,
              "ticks": ""
             }
            },
            "type": "scatter3d"
           }
          ],
          "scattercarpet": [
           {
            "marker": {
             "colorbar": {
              "outlinewidth": 0,
              "ticks": ""
             }
            },
            "type": "scattercarpet"
           }
          ],
          "scattergeo": [
           {
            "marker": {
             "colorbar": {
              "outlinewidth": 0,
              "ticks": ""
             }
            },
            "type": "scattergeo"
           }
          ],
          "scattergl": [
           {
            "marker": {
             "colorbar": {
              "outlinewidth": 0,
              "ticks": ""
             }
            },
            "type": "scattergl"
           }
          ],
          "scattermapbox": [
           {
            "marker": {
             "colorbar": {
              "outlinewidth": 0,
              "ticks": ""
             }
            },
            "type": "scattermapbox"
           }
          ],
          "scatterpolar": [
           {
            "marker": {
             "colorbar": {
              "outlinewidth": 0,
              "ticks": ""
             }
            },
            "type": "scatterpolar"
           }
          ],
          "scatterpolargl": [
           {
            "marker": {
             "colorbar": {
              "outlinewidth": 0,
              "ticks": ""
             }
            },
            "type": "scatterpolargl"
           }
          ],
          "scatterternary": [
           {
            "marker": {
             "colorbar": {
              "outlinewidth": 0,
              "ticks": ""
             }
            },
            "type": "scatterternary"
           }
          ],
          "surface": [
           {
            "colorbar": {
             "outlinewidth": 0,
             "ticks": ""
            },
            "colorscale": [
             [
              0,
              "#0d0887"
             ],
             [
              0.1111111111111111,
              "#46039f"
             ],
             [
              0.2222222222222222,
              "#7201a8"
             ],
             [
              0.3333333333333333,
              "#9c179e"
             ],
             [
              0.4444444444444444,
              "#bd3786"
             ],
             [
              0.5555555555555556,
              "#d8576b"
             ],
             [
              0.6666666666666666,
              "#ed7953"
             ],
             [
              0.7777777777777778,
              "#fb9f3a"
             ],
             [
              0.8888888888888888,
              "#fdca26"
             ],
             [
              1,
              "#f0f921"
             ]
            ],
            "type": "surface"
           }
          ],
          "table": [
           {
            "cells": {
             "fill": {
              "color": "#EBF0F8"
             },
             "line": {
              "color": "white"
             }
            },
            "header": {
             "fill": {
              "color": "#C8D4E3"
             },
             "line": {
              "color": "white"
             }
            },
            "type": "table"
           }
          ]
         },
         "layout": {
          "annotationdefaults": {
           "arrowcolor": "#2a3f5f",
           "arrowhead": 0,
           "arrowwidth": 1
          },
          "autotypenumbers": "strict",
          "coloraxis": {
           "colorbar": {
            "outlinewidth": 0,
            "ticks": ""
           }
          },
          "colorscale": {
           "diverging": [
            [
             0,
             "#8e0152"
            ],
            [
             0.1,
             "#c51b7d"
            ],
            [
             0.2,
             "#de77ae"
            ],
            [
             0.3,
             "#f1b6da"
            ],
            [
             0.4,
             "#fde0ef"
            ],
            [
             0.5,
             "#f7f7f7"
            ],
            [
             0.6,
             "#e6f5d0"
            ],
            [
             0.7,
             "#b8e186"
            ],
            [
             0.8,
             "#7fbc41"
            ],
            [
             0.9,
             "#4d9221"
            ],
            [
             1,
             "#276419"
            ]
           ],
           "sequential": [
            [
             0,
             "#0d0887"
            ],
            [
             0.1111111111111111,
             "#46039f"
            ],
            [
             0.2222222222222222,
             "#7201a8"
            ],
            [
             0.3333333333333333,
             "#9c179e"
            ],
            [
             0.4444444444444444,
             "#bd3786"
            ],
            [
             0.5555555555555556,
             "#d8576b"
            ],
            [
             0.6666666666666666,
             "#ed7953"
            ],
            [
             0.7777777777777778,
             "#fb9f3a"
            ],
            [
             0.8888888888888888,
             "#fdca26"
            ],
            [
             1,
             "#f0f921"
            ]
           ],
           "sequentialminus": [
            [
             0,
             "#0d0887"
            ],
            [
             0.1111111111111111,
             "#46039f"
            ],
            [
             0.2222222222222222,
             "#7201a8"
            ],
            [
             0.3333333333333333,
             "#9c179e"
            ],
            [
             0.4444444444444444,
             "#bd3786"
            ],
            [
             0.5555555555555556,
             "#d8576b"
            ],
            [
             0.6666666666666666,
             "#ed7953"
            ],
            [
             0.7777777777777778,
             "#fb9f3a"
            ],
            [
             0.8888888888888888,
             "#fdca26"
            ],
            [
             1,
             "#f0f921"
            ]
           ]
          },
          "colorway": [
           "#636efa",
           "#EF553B",
           "#00cc96",
           "#ab63fa",
           "#FFA15A",
           "#19d3f3",
           "#FF6692",
           "#B6E880",
           "#FF97FF",
           "#FECB52"
          ],
          "font": {
           "color": "#2a3f5f"
          },
          "geo": {
           "bgcolor": "white",
           "lakecolor": "white",
           "landcolor": "#E5ECF6",
           "showlakes": true,
           "showland": true,
           "subunitcolor": "white"
          },
          "hoverlabel": {
           "align": "left"
          },
          "hovermode": "closest",
          "mapbox": {
           "style": "light"
          },
          "paper_bgcolor": "white",
          "plot_bgcolor": "#E5ECF6",
          "polar": {
           "angularaxis": {
            "gridcolor": "white",
            "linecolor": "white",
            "ticks": ""
           },
           "bgcolor": "#E5ECF6",
           "radialaxis": {
            "gridcolor": "white",
            "linecolor": "white",
            "ticks": ""
           }
          },
          "scene": {
           "xaxis": {
            "backgroundcolor": "#E5ECF6",
            "gridcolor": "white",
            "gridwidth": 2,
            "linecolor": "white",
            "showbackground": true,
            "ticks": "",
            "zerolinecolor": "white"
           },
           "yaxis": {
            "backgroundcolor": "#E5ECF6",
            "gridcolor": "white",
            "gridwidth": 2,
            "linecolor": "white",
            "showbackground": true,
            "ticks": "",
            "zerolinecolor": "white"
           },
           "zaxis": {
            "backgroundcolor": "#E5ECF6",
            "gridcolor": "white",
            "gridwidth": 2,
            "linecolor": "white",
            "showbackground": true,
            "ticks": "",
            "zerolinecolor": "white"
           }
          },
          "shapedefaults": {
           "line": {
            "color": "#2a3f5f"
           }
          },
          "ternary": {
           "aaxis": {
            "gridcolor": "white",
            "linecolor": "white",
            "ticks": ""
           },
           "baxis": {
            "gridcolor": "white",
            "linecolor": "white",
            "ticks": ""
           },
           "bgcolor": "#E5ECF6",
           "caxis": {
            "gridcolor": "white",
            "linecolor": "white",
            "ticks": ""
           }
          },
          "title": {
           "x": 0.05
          },
          "xaxis": {
           "automargin": true,
           "gridcolor": "white",
           "linecolor": "white",
           "ticks": "",
           "title": {
            "standoff": 15
           },
           "zerolinecolor": "white",
           "zerolinewidth": 2
          },
          "yaxis": {
           "automargin": true,
           "gridcolor": "white",
           "linecolor": "white",
           "ticks": "",
           "title": {
            "standoff": 15
           },
           "zerolinecolor": "white",
           "zerolinewidth": 2
          }
         }
        },
        "title": {
         "text": "Top 10 Food Products by Total Emissions"
        },
        "xaxis": {
         "anchor": "y",
         "domain": [
          0,
          1
         ],
         "title": {
          "text": "Total_emissions"
         }
        },
        "yaxis": {
         "anchor": "x",
         "domain": [
          0,
          1
         ],
         "title": {
          "text": "Food product"
         }
        }
       }
      }
     },
     "metadata": {},
     "output_type": "display_data"
    },
    {
     "name": "stdout",
     "output_type": "stream",
     "text": [
      "\n",
      "Top 5 Products by Total Emissions:\n"
     ]
    },
    {
     "data": {
      "text/html": [
       "<div>\n",
       "<style scoped>\n",
       "    .dataframe tbody tr th:only-of-type {\n",
       "        vertical-align: middle;\n",
       "    }\n",
       "\n",
       "    .dataframe tbody tr th {\n",
       "        vertical-align: top;\n",
       "    }\n",
       "\n",
       "    .dataframe thead th {\n",
       "        text-align: right;\n",
       "    }\n",
       "</style>\n",
       "<table border=\"1\" class=\"dataframe\">\n",
       "  <thead>\n",
       "    <tr style=\"text-align: right;\">\n",
       "      <th></th>\n",
       "      <th>Food product</th>\n",
       "      <th>Total_emissions</th>\n",
       "    </tr>\n",
       "  </thead>\n",
       "  <tbody>\n",
       "    <tr>\n",
       "      <th>33</th>\n",
       "      <td>Beef (beef herd)</td>\n",
       "      <td>59.6</td>\n",
       "    </tr>\n",
       "    <tr>\n",
       "      <th>35</th>\n",
       "      <td>Lamb &amp; Mutton</td>\n",
       "      <td>24.5</td>\n",
       "    </tr>\n",
       "    <tr>\n",
       "      <th>39</th>\n",
       "      <td>Cheese</td>\n",
       "      <td>21.2</td>\n",
       "    </tr>\n",
       "    <tr>\n",
       "      <th>34</th>\n",
       "      <td>Beef (dairy herd)</td>\n",
       "      <td>21.1</td>\n",
       "    </tr>\n",
       "    <tr>\n",
       "      <th>32</th>\n",
       "      <td>Dark Chocolate</td>\n",
       "      <td>18.7</td>\n",
       "    </tr>\n",
       "  </tbody>\n",
       "</table>\n",
       "</div>"
      ],
      "text/plain": [
       "         Food product  Total_emissions\n",
       "33   Beef (beef herd)             59.6\n",
       "35      Lamb & Mutton             24.5\n",
       "39             Cheese             21.2\n",
       "34  Beef (dairy herd)             21.1\n",
       "32     Dark Chocolate             18.7"
      ]
     },
     "metadata": {},
     "output_type": "display_data"
    }
   ],
   "source": [
    "# Sort by total emissions\n",
    "top_emissions = df.nlargest(10, 'Total_emissions')\n",
    "\n",
    "# Create static plot\n",
    "plt.figure(figsize=(12, 6))\n",
    "sns.barplot(data=top_emissions, x='Total_emissions', y='Food product')\n",
    "plt.title('Top 10 Food Products by Total Emissions')\n",
    "plt.xlabel('Total Emissions (kgCO₂eq)')\n",
    "plt.tight_layout()\n",
    "plt.savefig(results_dir / 'top_emissions.png')\n",
    "plt.show()\n",
    "\n",
    "# Create interactive plot\n",
    "fig = px.bar(top_emissions, \n",
    "             x='Total_emissions', \n",
    "             y='Food product',\n",
    "             title='Top 10 Food Products by Total Emissions')\n",
    "fig.show()\n",
    "\n",
    "# Display the data\n",
    "print(\"\\nTop 5 Products by Total Emissions:\")\n",
    "display(top_emissions[['Food product', 'Total_emissions']].head())"
   ]
  }
 ],
 "metadata": {
  "kernelspec": {
   "display_name": "Python 3",
   "language": "python",
   "name": "python3"
  },
  "language_info": {
   "codemirror_mode": {
    "name": "ipython",
    "version": 3
   },
   "file_extension": ".py",
   "mimetype": "text/x-python",
   "name": "python",
   "nbconvert_exporter": "python",
   "pygments_lexer": "ipython3",
   "version": "3.11.9"
  }
 },
 "nbformat": 4,
 "nbformat_minor": 2
}
